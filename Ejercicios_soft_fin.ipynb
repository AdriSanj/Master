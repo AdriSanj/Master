{
 "cells": [
  {
   "cell_type": "markdown",
   "metadata": {},
   "source": [
    "# Ejercicios de Software de Finanzas"
   ]
  },
  {
   "cell_type": "code",
   "execution_count": null,
   "metadata": {},
   "outputs": [],
   "source": [
    "import numpy as np\n",
    "import matplotlib.pyplot as plt"
   ]
  },
  {
   "cell_type": "markdown",
   "metadata": {},
   "source": [
    "Ejercicio 1: Desarrollar un programa en python que calcule todas las posibles combinaciones (sin repetición)\n",
    "de N elementos tomados de k en k, esto es:\n",
    "\\displaystyle{\\left(\\frac{N}{k} \\right) = \\frac{N!}{(k)!(N-k)!}}"
   ]
  },
  {
   "cell_type": "code",
   "execution_count": null,
   "metadata": {},
   "outputs": [],
   "source": [
    "from math import factorial\n",
    "from math import trunc\n",
    "\n",
    "def check_int(I):\n",
    "    # Función para comprobar si el dato introducido es entero o float.\n",
    "    # En caso de ser entero, el float introducido se pasa a tipo int.\n",
    "    I_t = trunc(I)          # Truncamos el float para ver si tiene cero decimales. \n",
    "    if I_t == I:\n",
    "        I = int(I)\n",
    "    return I\n",
    "        "
   ]
  },
  {
   "cell_type": "code",
   "execution_count": null,
   "metadata": {},
   "outputs": [],
   "source": [
    "N = float(input(\"Introduce el número de elmentos: \"))\n",
    "N = check_int(N)\n",
    "k = float(input(\"Introduce el número de repeticiones: \"))\n",
    "k = check_int(k)\n",
    "\n",
    "if type(N) == int and type(k) == int:\n",
    "    if k < 0 or N <0:\n",
    "        print(\"Error en la entrada de datos: La cantidad introducida no es un tipo de dato válido.\")\n",
    "    elif k > N:\n",
    "        print(\"Error en la entrada de datos: No es posible realizar el cálculo con más repeticiones que elementos.\")\n",
    "    else:\n",
    "        N_k = int(factorial(N)/(factorial(k)*factorial(N-k)))\n",
    "        print(\"El resultado de \" , N, \" sobre \", k ,\" es: \", N_k)\n",
    "else:\n",
    "    print(\"El dato introducido no es entero.\")"
   ]
  },
  {
   "cell_type": "markdown",
   "metadata": {},
   "source": [
    "Ejercicio 2: Teniendo en cuenta que:\n",
    "\\displaystyle{e^{x} = \\sum_{n=0}^{\\infty} \\frac{x^{n}}{n!}}\n",
    "Implementar un programa que obtenga el número de términos necesarios para calcular e^{1} con el menor error posible."
   ]
  },
  {
   "cell_type": "code",
   "execution_count": null,
   "metadata": {},
   "outputs": [],
   "source": [
    "import sys\n",
    "\n",
    "eps = sys.float_info.epsilon\n",
    "\n",
    "print(\"Precisión máxima de la computadora: \", eps)\n",
    "\n",
    "def serie_exp(x,eps):\n",
    "    n_t = 1         # Numero del exponente\n",
    "    n_f = 1         # Numero factorial\n",
    "    aprox = 1       # termino 0 del desarrollo\n",
    "    exact = np.exp(x)\n",
    "    while(True):\n",
    "        aprox += (x**n_t)/n_f\n",
    "        n_t += 1\n",
    "        n_f *= n_t\n",
    "        if abs(aprox - exact) <= eps:\n",
    "            break\n",
    "    return aprox"
   ]
  },
  {
   "cell_type": "code",
   "execution_count": null,
   "metadata": {},
   "outputs": [],
   "source": [
    "x = 1\n",
    "aprox = serie_exp(x,eps*2)      # Con un epsilon menor peta\n",
    "exact = np.exp(x)\n",
    "\n",
    "print(\"Aproximación de la exponencial en x = \",x, \": \", aprox)\n",
    "print(\"Valor exacto en dicho punto :\", exact)\n",
    "print(\"Error en la aproximación: \", abs(aprox - exact))\n",
    "# Se observa que el error de la aproximación es el doble de la epsilon del sistema,\n",
    "# de acuerdo a lo introducido en la funcion serie_exp"
   ]
  },
  {
   "cell_type": "markdown",
   "metadata": {},
   "source": [
    "Ejercicio 3: Implementar una función en Python que calcule la solución de la ecuación:\n",
    "\\displaystyle{f(x) = x^{3}+e^{-x}-1,5=0} en el intervalo [-1,1] por el método de bisección."
   ]
  },
  {
   "cell_type": "code",
   "execution_count": null,
   "metadata": {},
   "outputs": [],
   "source": [
    "from math import exp\n",
    "\n",
    "def f(x):\n",
    "    # Función a la que se aplica bisección \n",
    "    return x**3+exp(-x)-1.5\n",
    "\n",
    "def biseccion(f,a,b,N):\n",
    "    # Función que calcula la bisección en un intervalo dado, con N iteraciones dadas.\n",
    "    c = (a+b)/2\n",
    "    f_a = f(a)\n",
    "    f_b = f(b)\n",
    "    f_c = f(c)\n",
    "    for i in range(N):\n",
    "        if f_a*f_c < 0:\n",
    "            b = c\n",
    "            f_b = f_c\n",
    "            c = (a+b)/2\n",
    "            f_c = f(c)\n",
    "        elif f_c*f_b < 0:\n",
    "            a = c\n",
    "            f_a = f_c\n",
    "            c = (a+b)/2\n",
    "            f_c = f(c)\n",
    "    # Tomamos la c como valor de referencia a devolver, a pesar de que los tres valores finales toman el valor\n",
    "    # aproximado de la raiz con un error dependiendo del número N dado.\n",
    "    return c     \n",
    "\n",
    "# Extremos del intervalo\n",
    "a = -1           # Extremo izquierd0\n",
    "b = 1            # Extremo derecho"
   ]
  },
  {
   "cell_type": "code",
   "execution_count": null,
   "metadata": {},
   "outputs": [],
   "source": [
    "root = biseccion(f,a,b,40)\n",
    "print(\"La raiz de la función dada es:\", root)\n",
    "\n",
    "# Calculo exacto de la raiz\n",
    "#from scipy.optimize import fsolve\n",
    "#print(fsolve(f,0))"
   ]
  },
  {
   "cell_type": "markdown",
   "metadata": {},
   "source": [
    "Ejercicio 4: Módulo para la realización de cálculos sobre hipotecas.\n",
    "Sabiendo que la cuota mensual m que hemos de pagar para amortizar una hipoteca de h euros a lo largo de n años\n",
    "a un interés compuesto de i por cien anual se calcula con la fórmula:\n",
    "\\displaystyle{m = \\frac{hr}{1-(1+r)^{-12n}}}\n",
    "Donde r = \\frac{i}{100*12}, diseña un módulo que contenga las siguientes funciones:"
   ]
  },
  {
   "cell_type": "markdown",
   "metadata": {},
   "source": [
    "-Una función que calcule la cuota dados h, n e i.\n"
   ]
  },
  {
   "cell_type": "markdown",
   "metadata": {},
   "source": [
    "-Una función que devuelva la cantidad de euros que habremos pagado finalmente al banco si abrimos una\n",
    "hipoteca de h euros a un interés total del i por cien en n años."
   ]
  },
  {
   "cell_type": "markdown",
   "metadata": {},
   "source": [
    "-Una función que nos diga qué cantidad de intereses (en euros) habremos pagado\n",
    "finalmente al banco si abrimos una hipoteca de h euros a un interés del i por cien en n\n",
    "años."
   ]
  },
  {
   "cell_type": "markdown",
   "metadata": {},
   "source": [
    "-Una función que nos diga qué tanto por cien del capital inicial deberemos pagar en\n",
    "intereses al amortizar completamente la hipoteca."
   ]
  },
  {
   "cell_type": "markdown",
   "metadata": {},
   "source": [
    "Una vez diseñado el módulo, implementa un programa que pida al usuario el capital h, el\n",
    "tipo de interés anual i, y el número de años n, y muestre por pantalla la cuota mensual,\n",
    "la cantidad de intereses que habremos pagado al banco y con qué tanto por cien del\n",
    "capital inicial se corresponden. "
   ]
  },
  {
   "cell_type": "code",
   "execution_count": null,
   "metadata": {},
   "outputs": [],
   "source": [
    "def cuota(h,n,i):\n",
    "    # Función para calcular la cuota.\n",
    "    # h capital inicial, n número de años, e i el interés\n",
    "    r = i/(100*12)\n",
    "    return h*r/(1-(1+r)**(-12*n))\n",
    "\n",
    "def pago_final(m,n):\n",
    "    # Función para calcular el pago final. El parámetro m es la cuota obtenida para h,n e i. \n",
    "    # Se multiplica por 12 al ser mensual, y n es el número de años.\n",
    "    return m*n*12\n",
    "\n",
    "def int_pagados(P_f,h):\n",
    "    # Restamos el pago final menos la cantidad h.\n",
    "    return P_f-h\n",
    "\n",
    "def tan_por_cien(I,h):\n",
    "    # Tanto por ciento del capital inicial que va a intereses.\n",
    "    return I*100/h"
   ]
  },
  {
   "cell_type": "code",
   "execution_count": null,
   "metadata": {},
   "outputs": [],
   "source": [
    "h = 150000    # Capital inicial de la hipoteca\n",
    "n = 15        # Número de años\n",
    "i = 4.75\n",
    "\n",
    "m = cuota(h,n,i)\n",
    "print(\"La cuota mensual de la hipoteca es:\", round(m,2),\"€\")\n",
    "p_f = pago_final(m,n)\n",
    "print(\"El pago final de la hipoteca es:\", round(p_f,2), \"€\")\n",
    "I = int_pagados(p_f,h)\n",
    "print(\"La cantidad pagada en intereses es:\", round(I,2), \"€\")\n",
    "t_I = tan_por_cien(I,h) \n",
    "print(\"El tanto por ciento de capital inicial que se cobra en interes es:\", round(t_I,2),\"%\")"
   ]
  },
  {
   "cell_type": "markdown",
   "metadata": {},
   "source": [
    "Ejercicio 5: Programación orientada a objetos."
   ]
  },
  {
   "cell_type": "markdown",
   "metadata": {},
   "source": [
    "-Definir una clase Linea en la que cada objeto está constituido por dos datos de la clase\n",
    "Punto llamados inicio y fin."
   ]
  },
  {
   "cell_type": "markdown",
   "metadata": {},
   "source": [
    "-Añadir a la clase Linea un método que imprima los extremos de la línea en formato (x,y)."
   ]
  },
  {
   "cell_type": "markdown",
   "metadata": {},
   "source": [
    "-Añadir a la clase Linea métodos para cambiar tanto el punto de inicio como el punto de\n",
    "fin."
   ]
  },
  {
   "cell_type": "markdown",
   "metadata": {},
   "source": [
    "-Sobrecargar el operador suma para la clase Linea, de forma que la suma de dos líneas de\n",
    "lugar a una línea en la que los puntos de inicio y fin son las sumas de los puntos de inicio\n",
    "y fin respectivos en las líneas operadas."
   ]
  },
  {
   "cell_type": "code",
   "execution_count": null,
   "metadata": {},
   "outputs": [],
   "source": [
    "from math import sqrt\n",
    "\n",
    "class Punto: \n",
    "    # Creación de la clase punto.\n",
    "    def __init__(self, x = 0 , y = 0):   # Por defecto, el punto toma los valores del origen.\n",
    "        # Función inicializadora. Si metemos dos puntos de entrada, \n",
    "        self.mover(x,y)                                          \n",
    "    def mover(self,x,y):\n",
    "        # Función para desplazarse a los puntos introducidos en la entrada de la clase.\n",
    "        self.x = x\n",
    "        self.y = y\n",
    "        return self\n",
    "    def __add__(self,p):          ## Sobrecarga del operador suma\n",
    "        # Nos permite sumar dos puntos.\n",
    "        p1 = Punto()\n",
    "        p1.x = self.x + p.x\n",
    "        p1.y = self.y + p.y\n",
    "        return p1\n",
    "    def distancia(self,p):\n",
    "        # Mide la distancia que hay entre dos puntos.\n",
    "        return sqrt((self.x-p.x)**2 + (self.y-p.y)**2)\n",
    "    def imprimir(self):\n",
    "        print('(', self.x, ',', self.y, ')')"
   ]
  },
  {
   "cell_type": "code",
   "execution_count": null,
   "metadata": {},
   "outputs": [],
   "source": [
    "class Linea(Punto):\n",
    "    # No toma puntos por defecto, hay que especificar que puntos comprenden la línea.\n",
    "    def __init__(self, ini, fin):\n",
    "        # Inicializador de la clase.\n",
    "        self.mover_lin(ini,fin)\n",
    "    def imprimir_linea(self):\n",
    "        # Función para imprimir los puntos inicial y final de la línea.\n",
    "        print('{Ini = ', end='')\n",
    "        Punto.imprimir(self.ini)\n",
    "        print('; Fin = ', end='')\n",
    "        Punto.imprimir(self.fin)\n",
    "        print('}')\n",
    "    def mover_lin(self,ini,fin):\n",
    "        # Función para cambiar ambos elementos.\n",
    "        self.change_ini(ini)\n",
    "        self.change_fin(fin)\n",
    "        return self\n",
    "    def change_ini(self,ini):\n",
    "        # Función para cambiar solamente el punto inicial.\n",
    "        self.ini = ini\n",
    "        return self\n",
    "    def change_fin(self,fin):\n",
    "        # Función para cambiar solamente el punto final.\n",
    "        self.fin = fin\n",
    "        return self\n",
    "    def __add__(self,P):\n",
    "        # Sobrecarga del operador suma.\n",
    "        aux = Linea(Punto(),Punto(1,0))      # Linea auxiliar que nos devuelve el resultado de la sobrecarga\n",
    "        aux.ini.x = self.ini.x + P.ini.x\n",
    "        aux.ini.y = self.ini.y + P.ini.y\n",
    "        aux.fin.x = self.fin.x + P.fin.x\n",
    "        aux.fin.y = self.fin.y + P.fin.y\n",
    "        return aux\n",
    "    def longitud(self):\n",
    "        L = sqrt((self.ini.x-self.fin.x)**2+(self.ini.y-self.fin.y)**2)\n",
    "        print(L)\n",
    "        return L"
   ]
  },
  {
   "cell_type": "code",
   "execution_count": null,
   "metadata": {},
   "outputs": [],
   "source": [
    "a = Punto(-1,0)\n",
    "b = Punto(2,0)\n",
    "c = Punto(2,4)\n",
    "d = Punto(-1,6)\n",
    "L = Linea(a,b)\n",
    "L2 = Linea(c,d)\n",
    "Linea.imprimir_linea(L)\n",
    "Linea.imprimir_linea(L2)\n",
    "C = L2+L\n",
    "Linea.imprimir_linea(C)\n",
    "Linea.longitud(L)"
   ]
  },
  {
   "cell_type": "code",
   "execution_count": null,
   "metadata": {},
   "outputs": [],
   "source": []
  },
  {
   "cell_type": "code",
   "execution_count": null,
   "metadata": {},
   "outputs": [],
   "source": []
  }
 ],
 "metadata": {
  "kernelspec": {
   "display_name": "Python 3",
   "language": "python",
   "name": "python3"
  },
  "language_info": {
   "codemirror_mode": {
    "name": "ipython",
    "version": 3
   },
   "file_extension": ".py",
   "mimetype": "text/x-python",
   "name": "python",
   "nbconvert_exporter": "python",
   "pygments_lexer": "ipython3",
   "version": "3.8.5"
  }
 },
 "nbformat": 4,
 "nbformat_minor": 4
}
