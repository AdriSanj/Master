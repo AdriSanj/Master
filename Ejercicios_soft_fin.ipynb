{
 "cells": [
  {
   "cell_type": "markdown",
   "metadata": {},
   "source": [
    "# Ejercicios de Software de Finanzas"
   ]
  },
  {
   "cell_type": "markdown",
   "metadata": {},
   "source": [
    "Autor: Adrián Sanjurjo García, \n",
    "UDC.\n"
   ]
  },
  {
   "cell_type": "code",
   "execution_count": null,
   "metadata": {},
   "outputs": [],
   "source": [
    "# Ejecutar primero esta línea antes de cualquier otra.\n",
    "\n",
    "import numpy as np\n",
    "import QuantLib as ql"
   ]
  },
  {
   "cell_type": "markdown",
   "metadata": {},
   "source": [
    "Ejercicio 1: Desarrollar un programa en python que calcule todas las posibles combinaciones (sin repetición)\n",
    "de N elementos tomados de k en k, esto es:\n",
    "$\\left(\\frac{N}{k} \\right) = \\frac{N!}{(k)!(N-k)!}$"
   ]
  },
  {
   "cell_type": "code",
   "execution_count": null,
   "metadata": {},
   "outputs": [],
   "source": [
    "from math import factorial\n",
    "from math import trunc\n",
    "\n",
    "def check_int(I):\n",
    "    # Función para comprobar si el dato introducido es entero o float.\n",
    "    # En caso de ser entero, el float introducido se pasa a tipo int.\n",
    "    I_t = trunc(I)          # Truncamos el float para ver si tiene cero decimales. \n",
    "    if I_t == I:\n",
    "        I = int(I)\n",
    "    return I\n",
    "        "
   ]
  },
  {
   "cell_type": "markdown",
   "metadata": {},
   "source": [
    "Una vez definida la función, se introducen por pantalla N y k respectivamente, y ha de cumplirse que N > k para que se ejecute. "
   ]
  },
  {
   "cell_type": "code",
   "execution_count": null,
   "metadata": {},
   "outputs": [],
   "source": [
    "N = float(input(\"Introduce el número de elmentos: \"))\n",
    "N = check_int(N)\n",
    "k = float(input(\"Introduce el número de repeticiones: \"))\n",
    "k = check_int(k)\n",
    "\n",
    "if type(N) == int and type(k) == int:\n",
    "    if k < 0 or N <0:\n",
    "        print(\"Error en la entrada de datos: La cantidad introducida no es un tipo de dato válido.\")\n",
    "    elif k > N:\n",
    "        print(\"Error en la entrada de datos: No es posible realizar el cálculo con más repeticiones que elementos.\")\n",
    "    else:\n",
    "        N_k = int(factorial(N)/(factorial(k)*factorial(N-k)))\n",
    "        print(\"El resultado de \" , N, \" sobre \", k ,\" es: \", N_k)\n",
    "else:\n",
    "    print(\"El dato introducido no es entero.\")"
   ]
  },
  {
   "cell_type": "markdown",
   "metadata": {},
   "source": [
    "Ejercicio 2: Teniendo en cuenta que:\n",
    "$e^{x} = \\sum_{n=0}^{\\infty} \\frac{x^{n}}{n!}$\n",
    "Implementar un programa que obtenga el número de términos necesarios para calcular $e^{1}$ con el menor error posible."
   ]
  },
  {
   "cell_type": "code",
   "execution_count": null,
   "metadata": {},
   "outputs": [],
   "source": [
    "import sys\n",
    "\n",
    "eps = sys.float_info.epsilon\n",
    "\n",
    "print(\"Precisión máxima de la computadora: \", eps)\n",
    "\n",
    "def serie_exp(x, eps):\n",
    "    n_t = 1         # Numero del exponente\n",
    "    n_f = 1         # Numero factorial\n",
    "    aprox = 1       # termino 0 del desarrollo\n",
    "    exact = np.exp(x)\n",
    "    while(True):\n",
    "        aprox += (x**n_t)/n_f\n",
    "        n_t += 1\n",
    "        n_f *= n_t\n",
    "        if abs(aprox - exact) <= eps:\n",
    "            break\n",
    "    return aprox"
   ]
  },
  {
   "cell_type": "code",
   "execution_count": null,
   "metadata": {},
   "outputs": [],
   "source": [
    "x = 1\n",
    "aprox = serie_exp(x, eps*2)      # Con un epsilon menor peta\n",
    "exact = np.exp(x)\n",
    "\n",
    "print(\"Aproximación de la exponencial en x = \",x, \": \", aprox)\n",
    "print(\"Valor exacto en dicho punto :\", exact)\n",
    "print(\"Error en la aproximación: \", abs(aprox - exact))\n",
    "# Se observa que el error de la aproximación es el doble de la epsilon del sistema,\n",
    "# de acuerdo a lo introducido en la funcion serie_exp"
   ]
  },
  {
   "cell_type": "markdown",
   "metadata": {},
   "source": [
    "Ejercicio 3: Implementar una función en Python que calcule la solución de la ecuación:\n",
    "$f(x) = x^{3}+e^{-x}-1,5=0$ en el intervalo [-1,1] por el método de bisección."
   ]
  },
  {
   "cell_type": "code",
   "execution_count": null,
   "metadata": {},
   "outputs": [],
   "source": [
    "from math import exp\n",
    "\n",
    "def f(x):\n",
    "    # Función a la que se aplica bisección \n",
    "    return x**3 + exp(-x) - 1.5\n",
    "\n",
    "def biseccion(f, a, b, N):\n",
    "    # Función que calcula la bisección en un intervalo dado, con N iteraciones dadas.\n",
    "    c = (a + b)/2\n",
    "    f_a = f(a)\n",
    "    f_b = f(b)\n",
    "    f_c = f(c)\n",
    "    for i in range(N):\n",
    "        if f_a*f_c < 0:\n",
    "            b = c\n",
    "            f_b = f_c\n",
    "            c = (a + b)/2\n",
    "            f_c = f(c)\n",
    "        elif f_c*f_b < 0:\n",
    "            a = c\n",
    "            f_a = f_c\n",
    "            c = (a + b)/2\n",
    "            f_c = f(c)\n",
    "            \n",
    "    # Tomamos la c como valor de referencia a devolver, a pesar de que los tres valores finales toman el valor\n",
    "    # aproximado de la raiz con un error dependiendo del número N dado.\n",
    "    return c     \n",
    "\n",
    "# Extremos del intervalo\n",
    "a = -1           # Extremo izquierd0\n",
    "b = 1            # Extremo derecho"
   ]
  },
  {
   "cell_type": "code",
   "execution_count": null,
   "metadata": {},
   "outputs": [],
   "source": [
    "root = biseccion(f, a, b, 40)\n",
    "print(\"La raiz de la función dada es:\", root)\n",
    "\n",
    "# Calculo exacto de la raiz\n",
    "#from scipy.optimize import fsolve\n",
    "#print(fsolve(f,0))"
   ]
  },
  {
   "cell_type": "markdown",
   "metadata": {},
   "source": [
    "Ejercicio 4: Módulo para la realización de cálculos sobre hipotecas.\n",
    "Sabiendo que la cuota mensual m que hemos de pagar para amortizar una hipoteca de h euros a lo largo de n años\n",
    "a un interés compuesto de i por cien anual se calcula con la fórmula:\n",
    "$m = \\frac{hr}{1-(1+r)^{-12n}}$\n",
    "Donde $r = \\frac{i}{100*12}$, diseña un módulo que contenga las siguientes funciones:\n",
    "- Una función que calcule la cuota dados h, n e i.\n",
    "- Una función que devuelva la cantidad de euros que habremos pagado finalmente al banco si abrimos una hipoteca de h euros a un interés total del i por cien en n años.\n",
    "- Una función que nos diga qué cantidad de intereses (en euros) habremos pagado finalmente al banco si abrimos una hipoteca de h euros a un interés del i por cien en n años.\n",
    "- Una función que nos diga qué tanto por cien del capital inicial deberemos pagar en intereses al amortizar completamente la hipoteca.\n"
   ]
  },
  {
   "cell_type": "markdown",
   "metadata": {},
   "source": [
    "Una vez diseñado el módulo, implementa un programa que pida al usuario el capital h, el\n",
    "tipo de interés anual i, y el número de años n, y muestre por pantalla la cuota mensual,\n",
    "la cantidad de intereses que habremos pagado al banco y con qué tanto por cien del\n",
    "capital inicial se corresponden. "
   ]
  },
  {
   "cell_type": "code",
   "execution_count": null,
   "metadata": {},
   "outputs": [],
   "source": [
    "def cuota(h, n, i):\n",
    "    # Función para calcular la cuota.\n",
    "    # h capital inicial, n número de años, e i el interés\n",
    "    r = i/(100*12)\n",
    "    return h*r/(1 - (1 + r)**(-12*n))\n",
    "\n",
    "def pago_final(m, n):\n",
    "    # Función para calcular el pago final. El parámetro m es la cuota obtenida para h,n e i. \n",
    "    # Se multiplica por 12 al ser mensual, y n es el número de años.\n",
    "    return m*n*12\n",
    "\n",
    "def int_pagados(P_f, h):\n",
    "    # Restamos el pago final menos la cantidad h.\n",
    "    return P_f - h\n",
    "\n",
    "def tan_por_cien(I, h):\n",
    "    # Tanto por ciento del capital inicial que va a intereses.\n",
    "    return I*100/h"
   ]
  },
  {
   "cell_type": "code",
   "execution_count": null,
   "metadata": {},
   "outputs": [],
   "source": [
    "h = 150000    # Capital inicial de la hipoteca\n",
    "n = 15        # Número de años\n",
    "i = 4.75\n",
    "\n",
    "m = cuota(h,n,i)\n",
    "print(\"La cuota mensual de la hipoteca es:\", round(m,2),\"€\")\n",
    "p_f = pago_final(m,n)\n",
    "print(\"El pago final de la hipoteca es:\", round(p_f,2), \"€\")\n",
    "I = int_pagados(p_f,h)\n",
    "print(\"La cantidad pagada en intereses es:\", round(I,2), \"€\")\n",
    "t_I = tan_por_cien(I,h) \n",
    "print(\"El tanto por ciento de capital inicial que se cobra en interes es:\", round(t_I,2),\"%\")"
   ]
  },
  {
   "cell_type": "markdown",
   "metadata": {},
   "source": [
    "Ejercicio 5: Programación orientada a objetos.\n",
    "- Definir una clase Linea en la que cada objeto está constituido por dos datos de la clase Punto llamados inicio y fin.\n",
    "- Añadir a la clase Linea un método que imprima los extremos de la línea en formato (x,y).\n",
    "- Añadir a la clase Linea métodos para cambiar tanto el punto de inicio como el punto de fin.\n",
    "- Sobrecargar el operador suma para la clase Linea, de forma que la suma de dos líneas de lugar a una línea en la que los puntos de inicio y fin son las sumas de los puntos de inicio y fin respectivos en las líneas operadas."
   ]
  },
  {
   "cell_type": "code",
   "execution_count": null,
   "metadata": {},
   "outputs": [],
   "source": [
    "from math import sqrt\n",
    "\n",
    "class Punto: \n",
    "    # Creación de la clase punto.\n",
    "    def __init__(self, x = 0 , y = 0):   # Por defecto, el punto toma los valores del origen.\n",
    "        # Función inicializadora. Si metemos dos puntos de entrada, \n",
    "        self.mover(x,y)                                          \n",
    "    def mover(self,x,y):\n",
    "        # Función para desplazarse a los puntos introducidos en la entrada de la clase.\n",
    "        self.x = x\n",
    "        self.y = y\n",
    "        return self\n",
    "    def __add__(self, p):          ## Sobrecarga del operador suma\n",
    "        # Nos permite sumar dos puntos.\n",
    "        p1 = Punto()\n",
    "        p1.x = self.x + p.x\n",
    "        p1.y = self.y + p.y\n",
    "        return p1\n",
    "    def distancia(self, p):\n",
    "        # Mide la distancia que hay entre dos puntos.\n",
    "        return sqrt((self.x - p.x)**2 + (self.y - p.y)**2)\n",
    "    def imprimir(self):\n",
    "        print('(', self.x, ',', self.y, ')')"
   ]
  },
  {
   "cell_type": "code",
   "execution_count": null,
   "metadata": {},
   "outputs": [],
   "source": [
    "class Linea(Punto):\n",
    "    # No toma puntos por defecto, hay que especificar que puntos comprenden la línea.\n",
    "    def __init__(self, ini, fin):\n",
    "        # Inicializador de la clase.\n",
    "        self.mover_lin(ini, fin)\n",
    "    def imprimir_linea(self):\n",
    "        # Función para imprimir los puntos inicial y final de la línea.\n",
    "        print('{Ini = ', end='')\n",
    "        Punto.imprimir(self.ini)\n",
    "        print('; Fin = ', end='')\n",
    "        Punto.imprimir(self.fin)\n",
    "        print('}')\n",
    "    def mover_lin(self, ini, fin):\n",
    "        # Función para cambiar ambos elementos.\n",
    "        self.change_ini(ini)\n",
    "        self.change_fin(fin)\n",
    "        return self\n",
    "    def change_ini(self, ini):\n",
    "        # Función para cambiar solamente el punto inicial.\n",
    "        self.ini = ini\n",
    "        return self\n",
    "    def change_fin(self, fin):\n",
    "        # Función para cambiar solamente el punto final.\n",
    "        self.fin = fin\n",
    "        return self\n",
    "    def __add__(self, P):\n",
    "        # Sobrecarga del operador suma.\n",
    "        aux = Linea(Punto(), Punto(1, 0))      # Linea auxiliar que nos devuelve el resultado de la sobrecarga\n",
    "        aux.ini.x = self.ini.x + P.ini.x\n",
    "        aux.ini.y = self.ini.y + P.ini.y\n",
    "        aux.fin.x = self.fin.x + P.fin.x\n",
    "        aux.fin.y = self.fin.y + P.fin.y\n",
    "        return aux\n",
    "    def longitud(self):\n",
    "        L = sqrt((self.ini.x - self.fin.x)**2 + (self.ini.y - self.fin.y)**2)\n",
    "        print(L)\n",
    "        return L"
   ]
  },
  {
   "cell_type": "code",
   "execution_count": null,
   "metadata": {},
   "outputs": [],
   "source": [
    "# Definimos varios puntos para la prueba.\n",
    "a = Punto(-1, 0)\n",
    "b = Punto(2, 0)\n",
    "c = Punto(2, 4)\n",
    "d = Punto(-1, 6)\n",
    "# Generamos dos lineas.\n",
    "L = Linea(a, b)\n",
    "L2 = Linea(c, d)\n",
    "# Sacamos por pantalla dichas lineas.\n",
    "print('Linea L')\n",
    "Linea.imprimir_linea(L)\n",
    "print('Linea L2')\n",
    "Linea.imprimir_linea(L2)\n",
    "# Comprobamos la suma de ambas.\n",
    "C = L2+L\n",
    "print('Linea C (suma de L y L2)')\n",
    "Linea.imprimir_linea(C)\n",
    "print('Longitud de la linea C')\n",
    "longitud = Linea.longitud(L)"
   ]
  },
  {
   "cell_type": "markdown",
   "metadata": {},
   "source": [
    "Valoración de opciones: "
   ]
  },
  {
   "cell_type": "markdown",
   "metadata": {},
   "source": [
    "- Ejercicio 1: Implementar el método de Monte Carlo en una función que permita valorar tanto las opciones vainilla europeas de compra como de venta."
   ]
  },
  {
   "cell_type": "markdown",
   "metadata": {},
   "source": [
    "En los siguientes códigos se toma como "
   ]
  },
  {
   "cell_type": "code",
   "execution_count": null,
   "metadata": {},
   "outputs": [],
   "source": [
    "def met_MC(S0, K, sigma, r, T, opcion, D0 = 0, l = 10000, N = 50):     # l es el número de trayectorias.\n",
    "    \n",
    "    if opcion == 'call' or opcion == 'put':           \n",
    "        dt = T/N\n",
    "        S = np.zeros([N+1, l])\n",
    "        S[0] = S0\n",
    "    \n",
    "        for t in range(1, N+1):\n",
    "            S[t] = S[t-1]*np.exp((r - sigma**2/2 - D0)*dt + sigma*np.sqrt(dt)*np.random.standard_normal(l))\n",
    "\n",
    "        if opcion == 'call':\n",
    "            # Condición final en el caso de una opción de compra.\n",
    "            hT = np.maximum(S[-1] - K, 0)\n",
    "            \n",
    "        elif opcion == 'put':\n",
    "            # Condición final en el caso de una opción de venta.\n",
    "            hT = np.maximum(K - S[-1], 0)\n",
    "\n",
    "        V0 = np.exp(-r*T)*np.sum(hT)/l\n",
    "        \n",
    "        # Cálculo del intervalo de confianza:\n",
    "        std = np.sqrt(sum((np.exp(-r*T)*hT - V0)**2)/l)       # Desviación típica.\n",
    "        s = r'%'\n",
    "        conf = []\n",
    "        conf.append(V0 - 1.96*std/np.sqrt(l))\n",
    "        conf.append(V0 + 1.96*std/np.sqrt(l))\n",
    "    else: \n",
    "        # En caso de no introducir call o put se ejecuta este else y no calcula.\n",
    "        print('Error en la selección de la opción. Devolvemos 0.')\n",
    "        V0 = 0\n",
    "    \n",
    "    return V0, conf\n"
   ]
  },
  {
   "cell_type": "code",
   "execution_count": null,
   "metadata": {},
   "outputs": [],
   "source": [
    "# Como ejemplo de cálculo tomamos los de las diapositivas.\n",
    "\n",
    "MC_call_1, conf_MC_call_1 = met_MC(100, 105, 0.25, 0.05, 1., 'call')\n",
    "MC_put_1, conf_MC_put_1 = met_MC(100, 105, 0.25, 0.05, 1., 'put')\n",
    "\n",
    "print('El precio de una opción call es', round(MC_call_1, 2))        # Redondeamos a dos decimales.\n",
    "print('Intervalo de confianza de la opción call:')\n",
    "print(conf_MC_call_1)\n",
    "print('El precio de una opción put es', round(MC_put_1, 2)) \n",
    "print('Intervalo de confianza de la opción put:')\n",
    "print(conf_MC_put_1)"
   ]
  },
  {
   "cell_type": "markdown",
   "metadata": {},
   "source": [
    "- Ejercicio 2: Implementar la fórmula analítica de Black-Scholes en una función que me permita valorar tanto opciones vainilla europeas de compra como de venta.\n"
   ]
  },
  {
   "cell_type": "code",
   "execution_count": null,
   "metadata": {},
   "outputs": [],
   "source": [
    "from scipy import stats \n",
    "from math import log, sqrt, exp\n",
    "\n",
    "def bsm(S0, K, T, r, sigma, option, D0 = 0):\n",
    "    # Por defecto, los dividendos serán cero.\n",
    "    \n",
    "    d1 = (log(S0/K) + (r - D0 + 0.5*sigma**2)*T)/(sigma*sqrt(T))\n",
    "    d2 = (log(S0/K) + (r - D0 - 0.5*sigma**2)*T)/(sigma*sqrt(T))\n",
    "    \n",
    "    if option == 'call':\n",
    "        valor = S0*exp(-D0*T)*stats.norm.cdf(d1, 0.0, 1.0) - K*exp(-r*T)*stats.norm.cdf(d2, 0.0, 1.0) \n",
    "    elif option == 'put':\n",
    "        valor = K*exp(-r*T)*stats.norm.cdf(-d2, 0.0, 1.0) - S0*exp(-D0*T)*stats.norm.cdf(-d1, 0.0, 1.0) \n",
    "    else:\n",
    "        print('Error en la selección de la opción. Devolvemos 0.')\n",
    "        valor = 0\n",
    "    return valor\n"
   ]
  },
  {
   "cell_type": "code",
   "execution_count": null,
   "metadata": {},
   "outputs": [],
   "source": [
    "# Realizamos los cálculos con los mismos valores que en el caso de Monte Carlo.\n",
    "\n",
    "BS_call_1 = bsm(100, 105, 1.0, 0.05, 0.25, 'call')\n",
    "BS_put_1 = bsm(100, 105, 1.0, 0.05, 0.25, 'put')\n",
    "\n",
    "print('Valor de la opción call: ', round(BS_call_1, 2))\n",
    "print('Valor de la opción put: ', round(BS_put_1, 2))"
   ]
  },
  {
   "cell_type": "markdown",
   "metadata": {},
   "source": [
    "- Ejercicio 3: Valorar con ambas funciones una opción europea de compra y otra de venta con vencimiento 3 meses, precio de ejercicio 15.00, precio del activo hoy 17.00, tipo de interés 3% y volatilidad del activo 25%."
   ]
  },
  {
   "cell_type": "code",
   "execution_count": null,
   "metadata": {},
   "outputs": [],
   "source": [
    "# T = 0.25 implica un cuarto de año, es decir, 3 meses.\n",
    "\n",
    "MC_call_2, conf_MC_call_2 = met_MC(15, 17, 0.25, 0.03, 0.25, 'call')\n",
    "MC_put_2, conf_MC_put_2 = met_MC(15, 17, 0.25, 0.03, 0.25, 'put')\n",
    "BS_call_2 = bsm(15, 17, 0.25, 0.03, 0.25, 'call')\n",
    "BS_put_2 = bsm(15, 17, 0.25, 0.03, 0.25, 'put')\n",
    "\n",
    "print('Resultados para Monte Carlo:')\n",
    "print('Valor de la opción call: ', round(MC_call_2, 2))\n",
    "print('Intervalo de confianza de la opción call:')\n",
    "print(conf_MC_call_2)\n",
    "print('Valor de la opción put: ', round(MC_put_2, 2))\n",
    "print('Intervalo de confianza de la opción put:')\n",
    "print(conf_MC_put_2)\n",
    "\n",
    "print('Resultados para Black-Scholes:')\n",
    "print('Valor de la opción call: ', round(BS_call_2, 2))\n",
    "print('Valor de la opción put: ', round(BS_put_2, 2))"
   ]
  },
  {
   "cell_type": "markdown",
   "metadata": {},
   "source": [
    "- Ejercicio 4: Implementar en python dos funciones que permitan calcular el valor de dos opciones vainilla europeas de compra y de venta con dividendos contínuos. En una se calculará el precio con Monte Carlo (calcular también el intervalo de confianza 95%) y en la otra con la fórmula de Black-Scholes. Utilizar dichas funciones para valorar una opción vainilla europea de compra y otra de venta con los siguientes datos: vencimiento 3 meses, precio de ejercicio 15.00, precio del activo hoy 17.00, tipo de interés 3%, volatilidad del activo 25% y tasa de dividendos 1.5%."
   ]
  },
  {
   "cell_type": "code",
   "execution_count": null,
   "metadata": {},
   "outputs": [],
   "source": [
    "MC_call_3, conf_MC_call_3 = met_MC(15, 17, 0.25, 0.03, 0.25, 'call', D0 = 0.015)\n",
    "MC_put_3, conf_MC_put_3 = met_MC(15, 17, 0.25, 0.03, 0.25, 'put', D0 = 0.015)\n",
    "BS_call_3 = bsm(15, 17, 0.25, 0.03, 0.25, 'call', D0 = 0.015)\n",
    "BS_put_3 = bsm(15, 17, 0.25, 0.03, 0.25, 'put', D0 = 0.015)\n",
    "\n",
    "print('Resultados para Monte Carlo:')\n",
    "print('Valor de la opción call: ', round(MC_call_3, 2))\n",
    "print('Intervalo de confianza de la opción call:')\n",
    "print(conf_MC_call_3)\n",
    "print('Valor de la opción put: ', round(MC_put_3, 2))\n",
    "print('Intervalo de confianza de la opción put:')\n",
    "print(conf_MC_put_3)\n",
    "\n",
    "print('Resultados para Black-Scholes:')\n",
    "print('Valor de la opción call: ', round(BS_call_3, 2))\n",
    "print('Valor de la opción put: ', round(BS_put_3, 2))"
   ]
  },
  {
   "cell_type": "markdown",
   "metadata": {},
   "source": [
    "Ejercicio 6: Valorar utilizando diferencias finitas, el método de Monte Carlo, y la fórmula analítica de Black-Scholes, una opción vanilla europea de compra con los siguientes datos:\n",
    "- Fecha de vencimiento: 7-02-2022.\n",
    "- Precio de ejercicio (K): 130.00.\n",
    "- Tipo de interés (r): 0.1%.\n",
    "- Tasa de dividendos (q): 1.63%.\n",
    "- Volatilidad activo ($\\sigma$): 20%.\n",
    "- Fecha actual (fecha valor): 7-05-2021.\n",
    "- Precio del activo en fecha valor ($S_{0}$): 127.62.\n",
    "\n"
   ]
  },
  {
   "cell_type": "markdown",
   "metadata": {},
   "source": [
    "Utilizar Actual365Fixed como base de cálculo para determinar el número de días a efectos de inversión y el calendario de Estados Unidos.\n"
   ]
  },
  {
   "cell_type": "markdown",
   "metadata": {},
   "source": [
    "Este código consiste en una ligera modificación del propuesto en clase, tomando otros datos de entrada."
   ]
  },
  {
   "cell_type": "code",
   "execution_count": null,
   "metadata": {},
   "outputs": [],
   "source": [
    "\"\"\"\n",
    "Created on Tue May  4 14:51:59 2021\n",
    "\n",
    "@author: Carmen\n",
    "\"\"\"\n",
    "\n",
    "# Precio opción que paga dividendos continuos\n",
    "S0 = ql.SimpleQuote(127.62)\n",
    "strike = 130\n",
    "r = ql.SimpleQuote(0.01)\n",
    "sigma = ql.SimpleQuote(0.20)\n",
    "q = ql.SimpleQuote(0.0163)\n",
    "today = ql.Date(7, 5, 2021)\n",
    "maturity = today + ql.Period(9, ql.Months)\n",
    "\n",
    "# Establecemos la fecha de valoración\n",
    "ql.Settings.instance().evaluationDate = today\n",
    "\n",
    "# Creamos la opción a partir del payoff y el tipo de ejercicio\n",
    "option = ql.VanillaOption(ql.PlainVanillaPayoff(ql.Option.Call,strike), ql.EuropeanExercise(maturity))\n",
    "\n",
    "# Generamos la curva de tipos de interés, dividendos y las volatilidades\n",
    "riskfreecurve = ql.FlatForward(today, ql.QuoteHandle(r), ql.ActualActual())\n",
    "volatility = ql.BlackConstantVol(today,ql.TARGET(), ql.QuoteHandle(sigma), ql.ActualActual())\n",
    "q = ql.FlatForward(today, ql.QuoteHandle(q), ql.ActualActual())\n",
    "\n",
    "# Definimos el proceso estocástico que gobierna la evolución del precio del activo\n",
    "process=ql.GeneralizedBlackScholesProcess(ql.QuoteHandle(S0), ql.YieldTermStructureHandle(q), ql.YieldTermStructureHandle(riskfreecurve), ql.BlackVolTermStructureHandle(volatility))\n",
    "\n",
    "# Elegimos el método de valoración, en este caso diferencias finitas\n",
    "# TimeSteps y gridPoints por defecto son iguales a 100\n",
    "engine = ql.FdBlackScholesVanillaEngine(process, 800, 800) \n",
    "\n",
    "# Establecemos el método elegido como motor de valoración\n",
    "option.setPricingEngine(engine)\n",
    "\n",
    "# Calculamos el precio de la opción\n",
    "print('Precio opción europea venta FD', option.NPV())\n",
    "print('¿Ha expirado la opción?', option.isExpired())\n",
    "\n",
    "engine = ql.MCEuropeanEngine(process,'pseudorandom', antitheticVariate = True, timeSteps = 50, requiredSamples = 100000) \n",
    "option.setPricingEngine(engine)\n",
    "print('Precio opción europea venta Monte Carlo', option.NPV())\n",
    "print('Error cometido con el método de Monte Carlo', option.errorEstimate())\n",
    "\n",
    "engine = ql.AnalyticEuropeanEngine(process) \n",
    "option.setPricingEngine(engine)\n",
    "print('Precio opción europea venta fórmula Black-Scholes', option.NPV())\n"
   ]
  },
  {
   "cell_type": "code",
   "execution_count": null,
   "metadata": {},
   "outputs": [],
   "source": []
  }
 ],
 "metadata": {
  "kernelspec": {
   "display_name": "Python 3",
   "language": "python",
   "name": "python3"
  },
  "language_info": {
   "codemirror_mode": {
    "name": "ipython",
    "version": 3
   },
   "file_extension": ".py",
   "mimetype": "text/x-python",
   "name": "python",
   "nbconvert_exporter": "python",
   "pygments_lexer": "ipython3",
   "version": "3.8.5"
  }
 },
 "nbformat": 4,
 "nbformat_minor": 4
}
